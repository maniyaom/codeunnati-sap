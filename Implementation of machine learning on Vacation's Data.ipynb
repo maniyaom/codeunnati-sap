{
 "cells": [
  {
   "cell_type": "markdown",
   "id": "5fff6f0e",
   "metadata": {},
   "source": [
    "# Implementation of machine learning on Vacation Data"
   ]
  },
  {
   "cell_type": "markdown",
   "id": "12e87f97",
   "metadata": {},
   "source": [
    "## Import the required Libraries"
   ]
  },
  {
   "cell_type": "code",
   "execution_count": null,
   "id": "bdaf39e0",
   "metadata": {},
   "outputs": [],
   "source": [
    "# Import numpy\n",
    "import numpy as np\n",
    "\n",
    "# Import pandas\n",
    "import pandas as pd\n",
    "\n",
    "#Import matplotlib\n",
    "import matplotlib.pyplot as plt\n",
    "\n",
    "#Import seaborn\n",
    "import seaborn as sns"
   ]
  },
  {
   "cell_type": "markdown",
   "id": "793d025a",
   "metadata": {},
   "source": [
    "### Set Background Color for graphs"
   ]
  },
  {
   "cell_type": "code",
   "execution_count": null,
   "id": "f8f5fa8f",
   "metadata": {},
   "outputs": [],
   "source": [
    "bg_color = '#a6ecf5'\n",
    "graph_color = 'green'"
   ]
  },
  {
   "cell_type": "markdown",
   "id": "f417c811",
   "metadata": {},
   "source": [
    "## Load the dataset and perform data overview"
   ]
  },
  {
   "cell_type": "code",
   "execution_count": null,
   "id": "bfab5fdd",
   "metadata": {},
   "outputs": [],
   "source": [
    "# Read the data using pandas\n",
    "df_vacations_data = pd.read_excel('vacation_data.xlsx')"
   ]
  },
  {
   "cell_type": "code",
   "execution_count": null,
   "id": "de89ec26",
   "metadata": {},
   "outputs": [],
   "source": [
    "# Show the first five observations\n",
    "df_vacations_data.head()"
   ]
  },
  {
   "cell_type": "code",
   "execution_count": null,
   "id": "2bd1c264",
   "metadata": {},
   "outputs": [],
   "source": [
    "# Show the last five observations\n",
    "df_vacations_data.tail()"
   ]
  },
  {
   "cell_type": "code",
   "execution_count": null,
   "id": "61043a4f",
   "metadata": {},
   "outputs": [],
   "source": [
    "# Show the size of the data\n",
    "df_vacations_data.shape"
   ]
  },
  {
   "cell_type": "markdown",
   "id": "8dc4f65a",
   "metadata": {},
   "source": [
    "**INTERPRETATION**\n",
    " - We have 1000 observation\n",
    " - We have 32 attributes "
   ]
  },
  {
   "cell_type": "code",
   "execution_count": null,
   "id": "0913cc03",
   "metadata": {},
   "outputs": [],
   "source": [
    "# Show the columns of the data\n",
    "df_vacations_data.columns"
   ]
  },
  {
   "cell_type": "markdown",
   "id": "ad79a604",
   "metadata": {},
   "source": [
    "**COLUMN INFO**\n",
    "- Gender: Gender of the person who is going for vacation (e.g., Male, Female, Non-binary, etc.).\n",
    "- Age: Age of the individual, likely in years.\n",
    "- Education: Level of education attained by the individual (e.g., High School, Bachelor’s Degree, Master’s Degree, etc.).\n",
    "- Occupation: Job or profession of the individual.\n",
    "- State: State or region where the individual resides.\n",
    "- Relationship.Status: Relationship status of the individual (e.g., Single, Married, Divorced, etc.).\n",
    "- Obligation: Indicates some form of obligation (e.g., financial, familial, or other responsibilities). Exact meaning depends on the dataset context.\n",
    "- Obligation2: Another column related to obligations, possibly a secondary or additional type of obligation.\n",
    "- NEP: Likely an acronym or specific term related to the dataset. Without additional context, it’s unclear what this represents (e.g., \"Net Effective Price,\" \"Non-Exempt Personnel,\" etc.).\n",
    "- Vacation.Behaviour**: Describes the individual’s behavior or preferences related to vacations (e.g., frequency, type of vacations, etc.).\n",
    "- rest and relax: Preference for seeking rest and relaxation during vacations.\n",
    "- luxury / be spoilt: Preference for luxury or being pampered during vacations.\n",
    "- do sports: Preference for engaging in sports or physical activities during vacations.\n",
    "- excitement, a challenge: Preference for seeking excitement or challenges during vacations.\n",
    "- not exceed planned budget: Preference for staying within a planned budget during vacations.\n",
    "- realise creativity: Preference for activities that allow the individual to express or realize their creativity during vacations.\n",
    "- fun and entertainment: Preference for fun and entertainment during vacations.\n",
    "- good company: Preference for spending vacations with good company (e.g., friends, family).\n",
    "- health and beauty: Preference for activities related to health and beauty during vacations (e.g., spa treatments, wellness activities).\n",
    "- free-and-easy-going: Preference for a relaxed, unstructured, or spontaneous vacation style.\n",
    "- entertainment facilities: Preference for vacations that include access to entertainment facilities (e.g., resorts, theme parks).\n",
    "- not care about prices: Indicates that the individual does not prioritize cost when planning vacations.\n",
    "- life style of the local people: Preference for experiencing or learning about the lifestyle of local people during vacations.\n",
    "- intense experience of nature: Preference for immersive or intense experiences in nature during vacations.\n",
    "- cosiness/familiar atmosphere: Preference for cozy or familiar environments during vacations.\n",
    "- maintain unspoilt surroundings: Preference for vacations that prioritize preserving or enjoying unspoiled natural surroundings.\n",
    "- everything organised: Preference for vacations where everything is pre-organized or planned.\n",
    "- unspoilt nature/natural landscape: Preference for vacations that focus on unspoiled natural landscapes.\n",
    "- cultural offers: Preference for vacations that include cultural activities or experiences (e.g., museums, historical sites).\n",
    "- change of surroundings: Preference for vacations that provide a change of environment or scenery.\n",
    "- Income(k$): The individual’s income, likely in thousands of dollars (k$).\n",
    "- Expenditure: The individual’s expenditure, possibly related to vacations or general spending."
   ]
  },
  {
   "cell_type": "code",
   "execution_count": null,
   "id": "c48ba07f",
   "metadata": {},
   "outputs": [],
   "source": [
    "# Show the datatype of the data (Information of the data)\n",
    "df_vacations_data.info()"
   ]
  },
  {
   "cell_type": "markdown",
   "id": "15b0507d",
   "metadata": {},
   "source": [
    "**INTERPRETATION**\n",
    " - We have 7 numerical columns\n",
    " - We have 25 categorical columns\n",
    " - Space utilized by the data is 250.1+ KB\n",
    " - We have null records in the data"
   ]
  },
  {
   "cell_type": "code",
   "execution_count": null,
   "id": "6fa8cb55",
   "metadata": {},
   "outputs": [],
   "source": [
    "# Showcase the basic statistics of the data\n",
    "df_vacations_data.describe().T"
   ]
  },
  {
   "cell_type": "markdown",
   "id": "68ddd3da",
   "metadata": {},
   "source": [
    "**INTERPRETATION**\n",
    " - We don't have outliers in the data"
   ]
  },
  {
   "cell_type": "markdown",
   "id": "cbea164d",
   "metadata": {},
   "source": [
    "## Data Preprocessing"
   ]
  },
  {
   "cell_type": "markdown",
   "id": "b2c1e8c3",
   "metadata": {},
   "source": [
    "### Data Cleaning"
   ]
  },
  {
   "cell_type": "code",
   "execution_count": null,
   "id": "f2186b78",
   "metadata": {},
   "outputs": [],
   "source": [
    "# Show first five observations of the data\n",
    "df_vacations_data.head()"
   ]
  },
  {
   "cell_type": "markdown",
   "id": "886c07cd",
   "metadata": {},
   "source": [
    "#### Perform the renaming action"
   ]
  },
  {
   "cell_type": "code",
   "execution_count": null,
   "id": "c6148b18",
   "metadata": {},
   "outputs": [],
   "source": [
    "# Show the columns in the data\n",
    "df_vacations_data.columns"
   ]
  },
  {
   "cell_type": "markdown",
   "id": "f480b643",
   "metadata": {},
   "source": [
    "**INTERPRETATION**\n",
    " - Column names are already in good structure so there is no need of renaming"
   ]
  },
  {
   "cell_type": "markdown",
   "id": "cea6feec",
   "metadata": {},
   "source": [
    "### Null value treatment"
   ]
  },
  {
   "cell_type": "code",
   "execution_count": null,
   "id": "d6f1cc18",
   "metadata": {},
   "outputs": [],
   "source": [
    "# Fetch the null records present in the data (count)\n",
    "df_vacations_data.isnull().sum()"
   ]
  },
  {
   "cell_type": "markdown",
   "id": "005eea81",
   "metadata": {},
   "source": [
    "**INTERPRETATION**\n",
    " - We have 8 missing records in Education column\n",
    " - We have 59 missing records in Occupation column\n",
    " - We have 8 missing records in relationship_status column\n",
    " - We have 25 missing records in vacation_behaviour column\n",
    " - We have 800 missing records in Income_Dollar_k column\n",
    " - We have 800 missing records in Expenditure_dollar_k column"
   ]
  },
  {
   "cell_type": "raw",
   "id": "292ba314",
   "metadata": {},
   "source": [
    "# To treat the missing records we have certain laws\n",
    " - If missing records percentage is less than 15% --> Remove the observation(Rows)\n",
    " - If missing records percentage is between 20% to 70% --> Impute the missing records(Fill the null records)\n",
    " - If missing records percentage is greater then 75% --> Remove the attribute(Column)\n",
    "\n",
    " - Formula for finding the percentage: (Occurences/total number of event)*100 (statistical defination)\n",
    " - If the nature of the column is categorical: Impute the missing records with the mode of the column\n",
    " - If the nature of the column is numerical: Impute the missing records with the mean or median of the column"
   ]
  },
  {
   "cell_type": "code",
   "execution_count": null,
   "id": "5e90b9e4",
   "metadata": {},
   "outputs": [],
   "source": [
    "# Find the percentage of the missing records\n",
    "df_vacations_data.isnull().sum()/len(df_vacations_data) * 100"
   ]
  },
  {
   "cell_type": "markdown",
   "id": "491e0125",
   "metadata": {},
   "source": [
    "**INTERPRETATION**\n",
    " - As per the first law the observations we need to remove are Education, Occupation, relationship_status, vacation_behaviour\n",
    " - As per the second law there is no as such column where we need to impute the missing records\n",
    " - As per the third law the columns we need to remove from the data are  Income_Dollar_k, Expenditure_dollar_k"
   ]
  },
  {
   "cell_type": "code",
   "execution_count": null,
   "id": "d2088373",
   "metadata": {},
   "outputs": [],
   "source": [
    "# Perform the action of attributes removal\n",
    "df_vacations_data.drop(['Income(k$)', 'Expenditure'], axis=1, inplace=True)"
   ]
  },
  {
   "cell_type": "code",
   "execution_count": null,
   "id": "ee4b8ec2",
   "metadata": {},
   "outputs": [],
   "source": [
    "# Perform the action of observation removal\n",
    "df_vacations_data.dropna(inplace=True)"
   ]
  },
  {
   "cell_type": "code",
   "execution_count": null,
   "id": "fbd8314f",
   "metadata": {},
   "outputs": [],
   "source": [
    "# Perform the authentic check\n",
    "df_vacations_data.isnull().sum()/len(df_vacations_data)*100"
   ]
  },
  {
   "cell_type": "code",
   "execution_count": null,
   "id": "7a72ad20",
   "metadata": {},
   "outputs": [],
   "source": [
    "# Check the changing number of observations in data due to null value treatment\n",
    "df_vacations_data.shape"
   ]
  },
  {
   "cell_type": "markdown",
   "id": "257968db",
   "metadata": {},
   "source": [
    "**INTERPRETATION**\n",
    " - Droping the null records is not impacting on records present in the data, the difference is only 88 from original"
   ]
  },
  {
   "cell_type": "markdown",
   "id": "70203976",
   "metadata": {},
   "source": [
    "## Null value treatment done"
   ]
  },
  {
   "cell_type": "markdown",
   "id": "5fcda4ca",
   "metadata": {},
   "source": [
    "## EDA (Exploratory Data Analysis)"
   ]
  },
  {
   "cell_type": "raw",
   "id": "c76d9954",
   "metadata": {},
   "source": [
    "EDA is a process of converting any data into information\n",
    "In EDA we have three pillars\n",
    " - Univariate Analysis: When we took single column for analytics is called univariate analysis\n",
    "   If the column is categorical in nature we are going to plot the count plot.\n",
    "   If the column is numerical in nature then we are going to plot histogram or KDE plot(Kernal Density Plot).\n",
    "   \n",
    " - Bivariate Analysis: When we took two columns for analytics is called Bivariate Analysis.\n",
    " \n",
    " - Multivariate Analysis: When we took more than two columns for analysis is called Multivariate Analysis."
   ]
  },
  {
   "cell_type": "markdown",
   "id": "78675a2a",
   "metadata": {},
   "source": [
    "## Univariate Analysis"
   ]
  },
  {
   "cell_type": "code",
   "execution_count": null,
   "id": "dbe59d65",
   "metadata": {},
   "outputs": [],
   "source": [
    "# Show the first five observations of the data\n",
    "df_vacations_data.head()"
   ]
  },
  {
   "cell_type": "code",
   "execution_count": null,
   "id": "2c3e647f",
   "metadata": {},
   "outputs": [],
   "source": [
    "# Segregate the data based on the data type\n",
    "\n",
    "# Numerical Data\n",
    "df_numerical = df_vacations_data.select_dtypes(include='number')\n",
    "\n",
    "# Show the first five observations of Numerical Data\n",
    "df_numerical.head()"
   ]
  },
  {
   "cell_type": "code",
   "execution_count": null,
   "id": "d28d6698",
   "metadata": {},
   "outputs": [],
   "source": [
    "# Categorical Data\n",
    "df_categorical = df_vacations_data.select_dtypes(include='object')\n",
    "\n",
    "# Show the first five observations of Categorical Data\n",
    "df_categorical.head()"
   ]
  },
  {
   "cell_type": "markdown",
   "id": "99b62d5c",
   "metadata": {},
   "source": [
    "### Perform the Univariate Analysis on numerical data"
   ]
  },
  {
   "cell_type": "code",
   "execution_count": null,
   "id": "c9a0abd0",
   "metadata": {},
   "outputs": [],
   "source": [
    "# Show the first five observations of Numerical Data\n",
    "df_numerical.head()"
   ]
  },
  {
   "cell_type": "code",
   "execution_count": null,
   "id": "7d902ff9",
   "metadata": {},
   "outputs": [],
   "source": [
    "# Show the columns present in the numerical data\n",
    "df_numerical.columns"
   ]
  },
  {
   "cell_type": "markdown",
   "id": "9b141242",
   "metadata": {},
   "source": [
    "##### Age"
   ]
  },
  {
   "cell_type": "code",
   "execution_count": null,
   "id": "a951a7ce",
   "metadata": {},
   "outputs": [],
   "source": [
    "# Show the minimum\n",
    "df_numerical.Age.min()"
   ]
  },
  {
   "cell_type": "code",
   "execution_count": null,
   "id": "0604731d",
   "metadata": {},
   "outputs": [],
   "source": [
    "# Show the maximum\n",
    "df_numerical.Age.max()"
   ]
  },
  {
   "cell_type": "code",
   "execution_count": null,
   "id": "29ecd501",
   "metadata": {},
   "outputs": [],
   "source": [
    "# Show the average(mean)\n",
    "round(df_numerical.Age.mean(), 3)"
   ]
  },
  {
   "cell_type": "code",
   "execution_count": null,
   "id": "d2798588",
   "metadata": {},
   "outputs": [],
   "source": [
    "# Check the distribution(KDE Plot)\n",
    "df_numerical.Age.plot(kind='kde', color=graph_color)\n",
    "ax = plt.gca()\n",
    "ax.set_facecolor(bg_color)\n",
    "plt.title('Distribution of Age column')\n",
    "plt.xlabel('Age')\n",
    "plt.grid()\n",
    "plt.show()"
   ]
  },
  {
   "cell_type": "markdown",
   "id": "120e4010",
   "metadata": {},
   "source": [
    "**INTERPRETATION**\n",
    " - Minimum age of the person going for vacation is 18 and maximum is 105\n",
    " - Average age of the person going for vacation is 44.225\n",
    " - In visualization we can see multimodal data, mostly we have two age groups who are travelling those are 25 to 50 and 55 to 70"
   ]
  },
  {
   "cell_type": "code",
   "execution_count": null,
   "id": "88af0f7a",
   "metadata": {},
   "outputs": [],
   "source": [
    "# Show the columns in the numerical data\n",
    "df_numerical.columns"
   ]
  },
  {
   "cell_type": "markdown",
   "id": "4345f973",
   "metadata": {},
   "source": [
    "##### Education"
   ]
  },
  {
   "cell_type": "code",
   "execution_count": null,
   "id": "bed6abe6",
   "metadata": {},
   "outputs": [],
   "source": [
    "# Show the minimum\n",
    "df_numerical.Education.min()"
   ]
  },
  {
   "cell_type": "code",
   "execution_count": null,
   "id": "e394d6b7",
   "metadata": {},
   "outputs": [],
   "source": [
    "# Show the maximum\n",
    "df_numerical.Education.max()"
   ]
  },
  {
   "cell_type": "code",
   "execution_count": null,
   "id": "7db81619",
   "metadata": {},
   "outputs": [],
   "source": [
    "# Show the average(mean)\n",
    "round(df_numerical.Education.mean(), 3)"
   ]
  },
  {
   "cell_type": "code",
   "execution_count": null,
   "id": "bdde2dbc",
   "metadata": {},
   "outputs": [],
   "source": [
    "# Check the distribution(KDE Plot)\n",
    "df_numerical.Education.plot(kind='kde', color=graph_color)\n",
    "ax = plt.gca()\n",
    "ax.set_facecolor(bg_color)\n",
    "plt.title('Distribution of Education column')\n",
    "plt.xlabel('Education')\n",
    "plt.grid()\n",
    "plt.show()"
   ]
  },
  {
   "cell_type": "markdown",
   "id": "7ba0c815",
   "metadata": {},
   "source": [
    "**INTERPRETATION**\n",
    " - Minimum Education Of The Person Who Is Going To Vacation Is 1.000 .\n",
    " - Maximum Education Of The Person Who Is Going To Vacation Is 8.000 .\n",
    " - Average Education Of The Person Who Is Going To Vacation Is 4.884 .\n",
    " - In Visualization We See The Multi-Modal Data.(By Two Peak Values)\n",
    " - Mostly We Have Two Education Groups Who Are Traveling, Those Are From 2-4 & 6-8."
   ]
  },
  {
   "cell_type": "markdown",
   "id": "61c46622",
   "metadata": {},
   "source": [
    "##### obligation_rating"
   ]
  },
  {
   "cell_type": "code",
   "execution_count": null,
   "id": "b4296bbc",
   "metadata": {},
   "outputs": [],
   "source": [
    "# Show the minimum\n",
    "df_numerical.obligation_rating.min()"
   ]
  },
  {
   "cell_type": "code",
   "execution_count": null,
   "id": "220dfb0b",
   "metadata": {},
   "outputs": [],
   "source": [
    "# Show the maximum\n",
    "df_numerical.obligation_rating.max()"
   ]
  },
  {
   "cell_type": "code",
   "execution_count": null,
   "id": "a1dbf46d",
   "metadata": {},
   "outputs": [],
   "source": [
    "# Show the average(mean)\n",
    "round(df_numerical.obligation_rating.mean(), 3)"
   ]
  },
  {
   "cell_type": "code",
   "execution_count": null,
   "id": "62bfcbba",
   "metadata": {},
   "outputs": [],
   "source": [
    "# Check the distribution(KDE Plot)\n",
    "df_numerical.obligation_rating.plot(kind='kde', color=graph_color)\n",
    "ax = plt.gca()\n",
    "ax.set_facecolor(bg_color)\n",
    "plt.title('Distribution of obligation_rating column')\n",
    "plt.xlabel('Obligation Rating')\n",
    "plt.grid()\n",
    "plt.show()"
   ]
  },
  {
   "cell_type": "markdown",
   "id": "76e15f6f",
   "metadata": {},
   "source": [
    "**INTERPRETATION**\n",
    " - Minimum Obligation_Rating Of The Person Who Is Going To Vacation Is 1.000 .\n",
    " - Maximum Obligation_Rating Of The Person Who Is Going To Vacation Is 5.000 .\n",
    " - Average Obligation_Rating Of The Person Who Is Going To Vacation Is 3.735 .\n",
    " - In Visualization We See The Multi-Modal Data.(By One Peak Values)\n",
    " - Mostly We Have One Obligation_Rating Groups Who Are Traveling, Those Are From 3.0 to 4.6."
   ]
  },
  {
   "cell_type": "markdown",
   "id": "392251da",
   "metadata": {},
   "source": [
    "##### NEP"
   ]
  },
  {
   "cell_type": "code",
   "execution_count": null,
   "id": "fea5c310",
   "metadata": {},
   "outputs": [],
   "source": [
    "# Show the minimum\n",
    "df_numerical.NEP.min()"
   ]
  },
  {
   "cell_type": "code",
   "execution_count": null,
   "id": "e4322a77",
   "metadata": {},
   "outputs": [],
   "source": [
    "# Show the maximum\n",
    "df_numerical.NEP.max()"
   ]
  },
  {
   "cell_type": "code",
   "execution_count": null,
   "id": "d468cec3",
   "metadata": {},
   "outputs": [],
   "source": [
    "# Show the average(mean)\n",
    "round(df_numerical.NEP.mean(), 3)"
   ]
  },
  {
   "cell_type": "code",
   "execution_count": null,
   "id": "bd1a40cb",
   "metadata": {},
   "outputs": [],
   "source": [
    "# Check the distribution(KDE Plot)\n",
    "df_numerical.NEP.plot(kind='kde', color=graph_color)\n",
    "ax = plt.gca()\n",
    "ax.set_facecolor(bg_color)\n",
    "plt.title('Distribution of NEP column')\n",
    "plt.xlabel('NEP')\n",
    "plt.grid()\n",
    "plt.show()"
   ]
  },
  {
   "cell_type": "markdown",
   "id": "922b8212",
   "metadata": {},
   "source": [
    "**INTERPRETATION**\n",
    " - Minimum NEP Of The Person Who Is Going To Vacation Is 1.733 .\n",
    " - Maximum NEP Of The Person Who Is Going To Vacation Is 5.000 .\n",
    " - Average NEP Of The Person Who Is Going To Vacation Is 3.647 .\n",
    " - In Visualization We See The Multi-Modal Data.(By One Peak Values)\n",
    " - Mostly We Have One NEP Groups Who Are Traveling, Those Are From 3.0 to 4.3."
   ]
  },
  {
   "cell_type": "markdown",
   "id": "b5ead20b",
   "metadata": {},
   "source": [
    "##### vacation_behaviour"
   ]
  },
  {
   "cell_type": "code",
   "execution_count": null,
   "id": "9f979c21",
   "metadata": {},
   "outputs": [],
   "source": [
    "# Show the minimum\n",
    "df_numerical.vacation_behaviour.min()"
   ]
  },
  {
   "cell_type": "code",
   "execution_count": null,
   "id": "31445585",
   "metadata": {},
   "outputs": [],
   "source": [
    "# Show the maximum\n",
    "df_numerical.vacation_behaviour.max()"
   ]
  },
  {
   "cell_type": "code",
   "execution_count": null,
   "id": "31cd92eb",
   "metadata": {},
   "outputs": [],
   "source": [
    "# Show the average(mean)\n",
    "round(df_numerical.vacation_behaviour.mean(), 3)"
   ]
  },
  {
   "cell_type": "code",
   "execution_count": null,
   "id": "67c1cb85",
   "metadata": {},
   "outputs": [],
   "source": [
    "# Check the distribution(KDE Plot)\n",
    "df_numerical.vacation_behaviour.plot(kind='kde', color=graph_color)\n",
    "ax = plt.gca()\n",
    "ax.set_facecolor(bg_color)\n",
    "plt.title('Distribution of vacation_behaviour column')\n",
    "plt.xlabel('Vacation Behaviour')\n",
    "plt.grid()\n",
    "plt.show()"
   ]
  },
  {
   "cell_type": "markdown",
   "id": "775262fc",
   "metadata": {},
   "source": [
    "**INTERPRETATION**\n",
    " - Minimum Vacation_Behaviour Of The Person Who Is Going To Vacation Is 1.392 .\n",
    " - Maximum Vacation_Behaviour Of The Person Who Is Going To Vacation Is 4.766 .\n",
    " - Average Vacation_Behaviour Of The Person Who Is Going To Vacation Is 2.962 .\n",
    " - In Visualization We See The Multi-Modal Data.(By One Peak Values)\n",
    " - Mostly We Have One Vacation_Behaviour Groups Who Are Traveling, Those Are From 2-4."
   ]
  },
  {
   "cell_type": "markdown",
   "id": "abe42c25",
   "metadata": {},
   "source": [
    "### Univariate analysis on categorical data"
   ]
  },
  {
   "cell_type": "code",
   "execution_count": null,
   "id": "f7b425cf",
   "metadata": {},
   "outputs": [],
   "source": [
    "# Show the first five observations of categorical data\n",
    "df_categorical.head()"
   ]
  },
  {
   "cell_type": "code",
   "execution_count": null,
   "id": "b64095cf",
   "metadata": {},
   "outputs": [],
   "source": [
    "# Show the columns present in categorical data frame\n",
    "df_categorical.columns"
   ]
  },
  {
   "cell_type": "markdown",
   "id": "e549c2a1",
   "metadata": {},
   "source": [
    "##### Gender"
   ]
  },
  {
   "cell_type": "code",
   "execution_count": null,
   "id": "08ed3139",
   "metadata": {},
   "outputs": [],
   "source": [
    "# Show the count\n",
    "df_categorical.Gender.value_counts()"
   ]
  },
  {
   "cell_type": "code",
   "execution_count": null,
   "id": "d8dd7248",
   "metadata": {},
   "outputs": [],
   "source": [
    "# Create a visualization\n",
    "df_categorical.Gender.value_counts().plot(kind='bar', color=graph_color)\n",
    "ax = plt.gca()\n",
    "ax.set_facecolor(bg_color)\n",
    "plt.title('Count of Gender column')\n",
    "plt.xlabel('Gender')\n",
    "plt.grid()\n",
    "plt.xticks(rotation='0')\n",
    "plt.show()"
   ]
  },
  {
   "cell_type": "markdown",
   "id": "683d1941",
   "metadata": {},
   "source": [
    "**INTERPRETATION**\n",
    " - In Gender column we have 482 Male and 430 Female.\n",
    " - It represent quite balanced data"
   ]
  },
  {
   "cell_type": "code",
   "execution_count": null,
   "id": "64efec77",
   "metadata": {},
   "outputs": [],
   "source": [
    "# Show the columns present in the categorical dataframe\n",
    "df_categorical.columns"
   ]
  },
  {
   "cell_type": "markdown",
   "id": "741be878",
   "metadata": {},
   "source": [
    "##### Occupation"
   ]
  },
  {
   "cell_type": "code",
   "execution_count": null,
   "id": "fdc5a2d9",
   "metadata": {},
   "outputs": [],
   "source": [
    "# Show the count\n",
    "df_categorical.Occupation.value_counts()"
   ]
  },
  {
   "cell_type": "code",
   "execution_count": null,
   "id": "46e1bf9e",
   "metadata": {},
   "outputs": [],
   "source": [
    "# Create a visualization\n",
    "df_categorical.Occupation.value_counts().plot(kind='bar', color=graph_color, figsize=(12,5))\n",
    "ax = plt.gca()\n",
    "ax.set_facecolor(bg_color)\n",
    "plt.title('Count of Occupation column')\n",
    "plt.xlabel('Occupation')\n",
    "plt.grid()\n",
    "plt.show()"
   ]
  },
  {
   "cell_type": "markdown",
   "id": "10d75d85",
   "metadata": {},
   "source": [
    "**INTERPRETATION**\n",
    " - In this data Professional and manager of administrator are dominating that we can see in the graph\n",
    " - As per the labourer and transport worker contributing least in the data"
   ]
  },
  {
   "cell_type": "code",
   "execution_count": null,
   "id": "714b646a",
   "metadata": {},
   "outputs": [],
   "source": [
    "# Show the columns present in categorical data frame\n",
    "df_categorical.columns"
   ]
  },
  {
   "cell_type": "markdown",
   "id": "75d73e0a",
   "metadata": {},
   "source": [
    "##### State"
   ]
  },
  {
   "cell_type": "code",
   "execution_count": null,
   "id": "f5db2e2e",
   "metadata": {},
   "outputs": [],
   "source": [
    "# Show the count\n",
    "df_categorical.State.value_counts()"
   ]
  },
  {
   "cell_type": "code",
   "execution_count": null,
   "id": "4ae7f20b",
   "metadata": {
    "scrolled": true
   },
   "outputs": [],
   "source": [
    "# Create a visualization\n",
    "df_categorical.State.value_counts().plot(kind='bar', color=graph_color, figsize=(10,5))\n",
    "ax = plt.gca()\n",
    "ax.set_facecolor(bg_color)\n",
    "plt.title('Count of State column')\n",
    "plt.xlabel('States')\n",
    "plt.grid()\n",
    "plt.show()"
   ]
  },
  {
   "cell_type": "markdown",
   "id": "b7de5288",
   "metadata": {},
   "source": [
    "**INTERPRETATION**\n",
    " - In this data NSW, VIC and QLD are dominating that we can see in the graph\n",
    " - As per the data NT, Tas and ACT are contributing least"
   ]
  },
  {
   "cell_type": "code",
   "execution_count": null,
   "id": "eab43db7",
   "metadata": {},
   "outputs": [],
   "source": [
    "# Show the columns present in categorical data frame\n",
    "df_categorical.columns"
   ]
  },
  {
   "cell_type": "markdown",
   "id": "fc2094b8",
   "metadata": {},
   "source": [
    "##### relationship_status"
   ]
  },
  {
   "cell_type": "code",
   "execution_count": null,
   "id": "a4942f87",
   "metadata": {},
   "outputs": [],
   "source": [
    "# Show the count\n",
    "df_categorical.relationship_status.value_counts()"
   ]
  },
  {
   "cell_type": "code",
   "execution_count": null,
   "id": "58ef9de4",
   "metadata": {},
   "outputs": [],
   "source": [
    "# Create a visualization\n",
    "df_categorical.relationship_status.value_counts().plot(kind='bar', color=graph_color, figsize=(12,5))\n",
    "ax = plt.gca()\n",
    "ax.set_facecolor(bg_color)\n",
    "plt.title('Count of relationship_status column')\n",
    "plt.xlabel('relationship_status')\n",
    "plt.xticks(rotation='0')\n",
    "plt.grid()\n",
    "plt.show()"
   ]
  },
  {
   "cell_type": "markdown",
   "id": "0140c966",
   "metadata": {},
   "source": [
    "**INTERPRETATION**\n",
    " - As per the data, Mostly married people goes for vacation\n",
    " - As per the data, widowed people prefer less to go for vacation"
   ]
  },
  {
   "cell_type": "code",
   "execution_count": null,
   "id": "48dbb4e1",
   "metadata": {},
   "outputs": [],
   "source": [
    "# Show the columns present in categorical data frame\n",
    "df_categorical.columns"
   ]
  },
  {
   "cell_type": "markdown",
   "id": "56d76b84",
   "metadata": {},
   "source": [
    "##### obligation_category"
   ]
  },
  {
   "cell_type": "code",
   "execution_count": null,
   "id": "7b5c7b0e",
   "metadata": {},
   "outputs": [],
   "source": [
    "# Show the count\n",
    "df_categorical.obligation_category.value_counts()"
   ]
  },
  {
   "cell_type": "code",
   "execution_count": null,
   "id": "95029e5f",
   "metadata": {},
   "outputs": [],
   "source": [
    "# Create a visualization\n",
    "df_categorical.obligation_category.value_counts().plot(kind='bar', color=graph_color, figsize=(12,5))\n",
    "ax = plt.gca()\n",
    "ax.set_facecolor(bg_color)\n",
    "plt.title('Count of obligation_category column')\n",
    "plt.xlabel('obligation_category')\n",
    "plt.xticks(rotation='0')\n",
    "plt.grid()\n",
    "plt.show()"
   ]
  },
  {
   "cell_type": "markdown",
   "id": "80fd183f",
   "metadata": {},
   "source": [
    "**INTERPRETATION**\n",
    " - Data is balanced"
   ]
  },
  {
   "cell_type": "code",
   "execution_count": null,
   "id": "6fb67285",
   "metadata": {},
   "outputs": [],
   "source": [
    "# Show the columns present in categorical data frame\n",
    "df_categorical.columns"
   ]
  },
  {
   "cell_type": "markdown",
   "id": "cd5de8fe",
   "metadata": {},
   "source": [
    "##### rest_and_relax"
   ]
  },
  {
   "cell_type": "code",
   "execution_count": null,
   "id": "65c726d5",
   "metadata": {},
   "outputs": [],
   "source": [
    "# Show the count\n",
    "df_categorical.rest_and_relax.value_counts()"
   ]
  },
  {
   "cell_type": "code",
   "execution_count": null,
   "id": "6b20849f",
   "metadata": {},
   "outputs": [],
   "source": [
    "# Create a visualization\n",
    "df_categorical.rest_and_relax.value_counts().plot(kind='bar', color=graph_color, figsize=(8,5))\n",
    "ax = plt.gca()\n",
    "ax.set_facecolor(bg_color)\n",
    "plt.title('Count of rest_and_relax column')\n",
    "plt.xlabel('rest_and_relax')\n",
    "plt.xticks(rotation='0')\n",
    "plt.grid()\n",
    "plt.show()"
   ]
  },
  {
   "cell_type": "markdown",
   "id": "ad19902e",
   "metadata": {},
   "source": [
    "**INTERPRETATION**\n",
    " - Data is imbalanced\n",
    " - In this data, 825 are good for 'rest and relax' remaining are not good. \n",
    " - Most places are good for rest and relax"
   ]
  },
  {
   "cell_type": "code",
   "execution_count": null,
   "id": "2461ff36",
   "metadata": {},
   "outputs": [],
   "source": [
    "# Show the columns present in categorical data frame\n",
    "df_categorical.columns"
   ]
  },
  {
   "cell_type": "markdown",
   "id": "8e75816b",
   "metadata": {},
   "source": [
    "##### luxury_or_be_spoilt"
   ]
  },
  {
   "cell_type": "code",
   "execution_count": null,
   "id": "57f4bb2f",
   "metadata": {},
   "outputs": [],
   "source": [
    "# Show the count\n",
    "df_categorical.luxury_or_be_spoilt.value_counts()"
   ]
  },
  {
   "cell_type": "code",
   "execution_count": null,
   "id": "6b8b645f",
   "metadata": {},
   "outputs": [],
   "source": [
    "# Create a visualization\n",
    "df_categorical.luxury_or_be_spoilt.value_counts().plot(kind='bar', color='green', figsize=(8,5))\n",
    "ax = plt.gca()\n",
    "ax.set_facecolor('#a6ecf5')\n",
    "plt.title('Count of luxury_or_be_spoilt column')\n",
    "plt.xlabel('luxury_or_be_spoilt')\n",
    "plt.xticks(rotation='0')\n",
    "plt.grid()\n",
    "plt.show()"
   ]
  },
  {
   "cell_type": "markdown",
   "id": "acb4f820",
   "metadata": {},
   "source": [
    "**INTERPRETATION**\n",
    " - Data is imbalanced\n",
    " - In this data, 254 are good for 'luxury or be sploit' and remaining are not. "
   ]
  },
  {
   "cell_type": "code",
   "execution_count": null,
   "id": "200357ce",
   "metadata": {},
   "outputs": [],
   "source": [
    "# Show the columns present in categorical data frame\n",
    "df_categorical.columns"
   ]
  },
  {
   "cell_type": "markdown",
   "id": "8aa1340e",
   "metadata": {},
   "source": [
    "##### do_sports"
   ]
  },
  {
   "cell_type": "code",
   "execution_count": null,
   "id": "473305ec",
   "metadata": {},
   "outputs": [],
   "source": [
    "# Show the count\n",
    "df_categorical.do_sports.value_counts()"
   ]
  },
  {
   "cell_type": "code",
   "execution_count": null,
   "id": "ec49c413",
   "metadata": {},
   "outputs": [],
   "source": [
    "# Create a visualization\n",
    "df_categorical.do_sports.value_counts().plot(kind='bar', color='green', figsize=(8,5))\n",
    "ax = plt.gca()\n",
    "ax.set_facecolor('#a6ecf5')\n",
    "plt.title('Count of do_sports column')\n",
    "plt.xlabel('do_sports')\n",
    "plt.xticks(rotation='0')\n",
    "plt.grid()\n",
    "plt.show()"
   ]
  },
  {
   "cell_type": "markdown",
   "id": "44deeb23",
   "metadata": {},
   "source": [
    "**INTERPRETATION**\n",
    " - Data is imbalanced\n",
    " - In this data, most of the people don't want to do sports "
   ]
  },
  {
   "cell_type": "code",
   "execution_count": null,
   "id": "1b44de03",
   "metadata": {},
   "outputs": [],
   "source": [
    "# Show the columns present in categorical data frame\n",
    "df_categorical.columns"
   ]
  },
  {
   "cell_type": "markdown",
   "id": "d5eb1c26",
   "metadata": {},
   "source": [
    "##### excitement_and_challenge"
   ]
  },
  {
   "cell_type": "code",
   "execution_count": null,
   "id": "e86abe91",
   "metadata": {},
   "outputs": [],
   "source": [
    "# Show the count\n",
    "df_categorical.excitement_and_challenge.value_counts()"
   ]
  },
  {
   "cell_type": "code",
   "execution_count": null,
   "id": "a667bdb4",
   "metadata": {},
   "outputs": [],
   "source": [
    "# Create a visualization\n",
    "df_categorical.excitement_and_challenge.value_counts().plot(kind='bar', color='green', figsize=(8,5))\n",
    "ax = plt.gca()\n",
    "ax.set_facecolor('#a6ecf5')\n",
    "plt.title('Count of excitement_and_challenge column')\n",
    "plt.xlabel('excitement_and_challenge')\n",
    "plt.xticks(rotation='0')\n",
    "plt.grid()\n",
    "plt.show()"
   ]
  },
  {
   "cell_type": "markdown",
   "id": "3f5d7f6b",
   "metadata": {},
   "source": [
    "**INTERPRETATION**\n",
    " - Most peoples are not excited for challanges\n",
    " - In this data, there are 601 'No' and 311 'Yes'"
   ]
  },
  {
   "cell_type": "code",
   "execution_count": null,
   "id": "b81bc753",
   "metadata": {},
   "outputs": [],
   "source": [
    "# Show the columns present in categorical data frame\n",
    "df_categorical.columns"
   ]
  },
  {
   "cell_type": "markdown",
   "id": "500b3021",
   "metadata": {},
   "source": [
    "##### not_exceed_planned_budget"
   ]
  },
  {
   "cell_type": "code",
   "execution_count": null,
   "id": "fee52b3c",
   "metadata": {},
   "outputs": [],
   "source": [
    "# Show the count\n",
    "df_categorical.not_exceed_planned_budget.value_counts()"
   ]
  },
  {
   "cell_type": "code",
   "execution_count": null,
   "id": "a7a6ff4d",
   "metadata": {},
   "outputs": [],
   "source": [
    "# Create a visualization\n",
    "df_categorical.not_exceed_planned_budget.value_counts().plot(kind='bar', color='green', figsize=(8,5))\n",
    "ax = plt.gca()\n",
    "ax.set_facecolor('#a6ecf5')\n",
    "plt.title('Count of not_exceed_planned_budget column')\n",
    "plt.xlabel('not_exceed_planned_budget')\n",
    "plt.xticks(rotation='0')\n",
    "plt.grid()\n",
    "plt.show()"
   ]
  },
  {
   "cell_type": "markdown",
   "id": "afffee11",
   "metadata": {},
   "source": [
    "**INTERPRETATION**\n",
    " - The data is quite balanced\n",
    " - Almost same no of people exceeded and not exceeded the budget"
   ]
  },
  {
   "cell_type": "code",
   "execution_count": null,
   "id": "8559d86d",
   "metadata": {},
   "outputs": [],
   "source": [
    "# Show the columns present in categorical data frame\n",
    "df_categorical.columns"
   ]
  },
  {
   "cell_type": "markdown",
   "id": "535dd402",
   "metadata": {},
   "source": [
    "##### realise_creativity"
   ]
  },
  {
   "cell_type": "code",
   "execution_count": null,
   "id": "aca15282",
   "metadata": {},
   "outputs": [],
   "source": [
    "# Show the count\n",
    "df_categorical.realise_creativity.value_counts()"
   ]
  },
  {
   "cell_type": "code",
   "execution_count": null,
   "id": "882e0bb8",
   "metadata": {},
   "outputs": [],
   "source": [
    "# Create a visualization\n",
    "df_categorical.realise_creativity.value_counts().plot(kind='bar', color='green', figsize=(8,5))\n",
    "ax = plt.gca()\n",
    "ax.set_facecolor('#a6ecf5')\n",
    "plt.title('Count of realise_creativity column')\n",
    "plt.xlabel('realise_creativity')\n",
    "plt.xticks(rotation='0')\n",
    "plt.grid()\n",
    "plt.show()"
   ]
  },
  {
   "cell_type": "markdown",
   "id": "fd264078",
   "metadata": {},
   "source": [
    "**INTERPRETATION**\n",
    " - The data is imbalanced\n",
    " - As per the data, Less number of people realized creativity "
   ]
  },
  {
   "cell_type": "code",
   "execution_count": null,
   "id": "3ab73f4c",
   "metadata": {},
   "outputs": [],
   "source": [
    "# Show the columns present in categorical data frame\n",
    "df_categorical.columns"
   ]
  },
  {
   "cell_type": "markdown",
   "id": "b148320d",
   "metadata": {},
   "source": [
    "##### fun_and_entertainment"
   ]
  },
  {
   "cell_type": "code",
   "execution_count": null,
   "id": "76c0a776",
   "metadata": {},
   "outputs": [],
   "source": [
    "# Show the count\n",
    "df_categorical.fun_and_entertainment.value_counts()"
   ]
  },
  {
   "cell_type": "code",
   "execution_count": null,
   "id": "637bedb6",
   "metadata": {},
   "outputs": [],
   "source": [
    "# Create a visualization\n",
    "df_categorical.fun_and_entertainment.value_counts().plot(kind='bar', color='green', figsize=(8,5))\n",
    "ax = plt.gca()\n",
    "ax.set_facecolor('#a6ecf5')\n",
    "plt.title('Count of fun_and_entertainment column')\n",
    "plt.xlabel('fun_and_entertainment')\n",
    "plt.xticks(rotation='0')\n",
    "plt.grid()\n",
    "plt.show()"
   ]
  },
  {
   "cell_type": "markdown",
   "id": "4a72dca0",
   "metadata": {},
   "source": [
    "**INTERPRETATION**\n",
    " - The data is well-balanced, indicating a relatively even distribution across the categories.\n",
    " - A nearly equal number of people found vacations to be fun and entertaining, suggesting a consistent perception of enjoyment related to vacations."
   ]
  },
  {
   "cell_type": "code",
   "execution_count": null,
   "id": "ac4aef30",
   "metadata": {},
   "outputs": [],
   "source": [
    "# Show the columns present in categorical data frame\n",
    "df_categorical.columns"
   ]
  },
  {
   "cell_type": "markdown",
   "id": "9e99d7b1",
   "metadata": {},
   "source": [
    "##### good_company"
   ]
  },
  {
   "cell_type": "code",
   "execution_count": null,
   "id": "d6ba27b6",
   "metadata": {},
   "outputs": [],
   "source": [
    "# Show the count\n",
    "df_categorical.good_company.value_counts()"
   ]
  },
  {
   "cell_type": "code",
   "execution_count": null,
   "id": "816329d0",
   "metadata": {
    "scrolled": true
   },
   "outputs": [],
   "source": [
    "# Create a visualization\n",
    "df_categorical.good_company.value_counts().plot(kind='bar', color='green', figsize=(8,5))\n",
    "ax = plt.gca()\n",
    "ax.set_facecolor('#a6ecf5')\n",
    "plt.title('Count of good_company column')\n",
    "plt.xlabel('good_company')\n",
    "plt.xticks(rotation='0')\n",
    "plt.grid()\n",
    "plt.show()"
   ]
  },
  {
   "cell_type": "markdown",
   "id": "71f7e6aa",
   "metadata": {},
   "source": [
    "**INTERPRETATION**\n",
    " - The data is well-balanced, showing a fairly even distribution across the categories.\n",
    " - Nearly the same number of people reported good company as those who did not."
   ]
  },
  {
   "cell_type": "code",
   "execution_count": null,
   "id": "8fcc208c",
   "metadata": {},
   "outputs": [],
   "source": [
    "# Show the columns present in categorical data frame\n",
    "df_categorical.columns"
   ]
  },
  {
   "cell_type": "markdown",
   "id": "acd8b0bf",
   "metadata": {},
   "source": [
    "##### health_and_beauty"
   ]
  },
  {
   "cell_type": "code",
   "execution_count": null,
   "id": "8501980b",
   "metadata": {},
   "outputs": [],
   "source": [
    "# Show the count\n",
    "df_categorical.health_and_beauty.value_counts()"
   ]
  },
  {
   "cell_type": "code",
   "execution_count": null,
   "id": "d77c8c4a",
   "metadata": {},
   "outputs": [],
   "source": [
    "# Create a visualization\n",
    "df_categorical.health_and_beauty.value_counts().plot(kind='bar', color='green', figsize=(8,5))\n",
    "ax = plt.gca()\n",
    "ax.set_facecolor('#a6ecf5')\n",
    "plt.title('Count of health_and_beauty column')\n",
    "plt.xlabel('health_and_beauty')\n",
    "plt.xticks(rotation='0')\n",
    "plt.grid()\n",
    "plt.show()"
   ]
  },
  {
   "cell_type": "markdown",
   "id": "b2d5a870",
   "metadata": {},
   "source": [
    "**INTERPRETATION**\n",
    " - The data is imbalanced.\n",
    " - As per the data, Most tourist doesn't focus on their health and beauty."
   ]
  },
  {
   "cell_type": "code",
   "execution_count": null,
   "id": "c16b0aae",
   "metadata": {},
   "outputs": [],
   "source": [
    "# Show the columns present in categorical data frame\n",
    "df_categorical.columns"
   ]
  },
  {
   "cell_type": "markdown",
   "id": "d1bb9579",
   "metadata": {},
   "source": [
    "##### free_and_easy_going"
   ]
  },
  {
   "cell_type": "code",
   "execution_count": null,
   "id": "88475f82",
   "metadata": {},
   "outputs": [],
   "source": [
    "# Show the count\n",
    "df_categorical.free_and_easy_going.value_counts()"
   ]
  },
  {
   "cell_type": "code",
   "execution_count": null,
   "id": "86aa320a",
   "metadata": {},
   "outputs": [],
   "source": [
    "# Create a visualization\n",
    "df_categorical.free_and_easy_going.value_counts().plot(kind='bar', color='green', figsize=(8,5))\n",
    "ax = plt.gca()\n",
    "ax.set_facecolor('#a6ecf5')\n",
    "plt.title('Count of free_and_easy_going column')\n",
    "plt.xlabel('free_and_easy_going')\n",
    "plt.xticks(rotation='0')\n",
    "plt.grid()\n",
    "plt.show()"
   ]
  },
  {
   "cell_type": "markdown",
   "id": "a7420474",
   "metadata": {},
   "source": [
    "**INTERPRETATION**\n",
    " - The data is quite balanced\n",
    " - Almost same number of people found their trip to be free and easygoing, while an almost equal number did not"
   ]
  },
  {
   "cell_type": "code",
   "execution_count": null,
   "id": "5f2dc21e",
   "metadata": {},
   "outputs": [],
   "source": [
    "# Show the columns present in categorical data frame\n",
    "df_categorical.columns"
   ]
  },
  {
   "cell_type": "markdown",
   "id": "344c06c3",
   "metadata": {},
   "source": [
    "##### entertainment_facilities"
   ]
  },
  {
   "cell_type": "code",
   "execution_count": null,
   "id": "e2e634ce",
   "metadata": {},
   "outputs": [],
   "source": [
    "# Show the count\n",
    "df_categorical.entertainment_facilities.value_counts()"
   ]
  },
  {
   "cell_type": "code",
   "execution_count": null,
   "id": "a680dc69",
   "metadata": {},
   "outputs": [],
   "source": [
    "# Create a visualization\n",
    "df_categorical.entertainment_facilities.value_counts().plot(kind='bar', color='green', figsize=(8,5))\n",
    "ax = plt.gca()\n",
    "ax.set_facecolor('#a6ecf5')\n",
    "plt.title('Count of entertainment_facilities column')\n",
    "plt.xlabel('entertainment_facilities')\n",
    "plt.xticks(rotation='0')\n",
    "plt.grid()\n",
    "plt.show()"
   ]
  },
  {
   "cell_type": "markdown",
   "id": "d4ef3644",
   "metadata": {},
   "source": [
    "**INTERPRETATION**\n",
    " - The data is imbalanced.\n",
    " - Most tourist felt that there is not good entertainment facilities."
   ]
  },
  {
   "cell_type": "code",
   "execution_count": null,
   "id": "e8cd2f8c",
   "metadata": {},
   "outputs": [],
   "source": [
    "# Show the columns present in categorical data frame\n",
    "df_categorical.columns"
   ]
  },
  {
   "cell_type": "markdown",
   "id": "1da29886",
   "metadata": {},
   "source": [
    "##### not_care_about_prices"
   ]
  },
  {
   "cell_type": "code",
   "execution_count": null,
   "id": "d8da1a87",
   "metadata": {},
   "outputs": [],
   "source": [
    "# Show the count\n",
    "df_categorical.not_care_about_prices.value_counts()"
   ]
  },
  {
   "cell_type": "code",
   "execution_count": null,
   "id": "adbec488",
   "metadata": {},
   "outputs": [],
   "source": [
    "# Create a visualization\n",
    "df_categorical.not_care_about_prices.value_counts().plot(kind='bar', color='green', figsize=(8,5))\n",
    "ax = plt.gca()\n",
    "ax.set_facecolor('#a6ecf5')\n",
    "plt.title('Count of not_care_about_prices column')\n",
    "plt.xlabel('not_care_about_prices')\n",
    "plt.xticks(rotation='0')\n",
    "plt.grid()\n",
    "plt.show()"
   ]
  },
  {
   "cell_type": "markdown",
   "id": "3aacea48",
   "metadata": {},
   "source": [
    "**INTERPRETATION**\n",
    " - The data is imbalanced.\n",
    " - Most tourist don't care about the prices during their trip."
   ]
  },
  {
   "cell_type": "code",
   "execution_count": null,
   "id": "2ea9907d",
   "metadata": {},
   "outputs": [],
   "source": [
    "# Show the columns present in categorical data frame\n",
    "df_categorical.columns"
   ]
  },
  {
   "cell_type": "markdown",
   "id": "3c88caed",
   "metadata": {},
   "source": [
    "##### life_style_of_the_local_people"
   ]
  },
  {
   "cell_type": "code",
   "execution_count": null,
   "id": "cb3562ea",
   "metadata": {},
   "outputs": [],
   "source": [
    "# Show the count\n",
    "df_categorical.life_style_of_the_local_people.value_counts()"
   ]
  },
  {
   "cell_type": "code",
   "execution_count": null,
   "id": "7f60cce4",
   "metadata": {},
   "outputs": [],
   "source": [
    "# Create a visualization\n",
    "df_categorical.life_style_of_the_local_people.value_counts().plot(kind='bar', color='green', figsize=(8,5))\n",
    "ax = plt.gca()\n",
    "ax.set_facecolor('#a6ecf5')\n",
    "plt.title('Count of life_style_of_the_local_people column')\n",
    "plt.xlabel('life_style_of_the_local_people')\n",
    "plt.xticks(rotation='0')\n",
    "plt.grid()\n",
    "plt.show()"
   ]
  },
  {
   "cell_type": "markdown",
   "id": "cb332b72",
   "metadata": {},
   "source": [
    "**INTERPRETATION**\n",
    " - The data is well-balanced\n",
    " - An almost equal number of tourists found the local lifestyle as good and not good."
   ]
  },
  {
   "cell_type": "code",
   "execution_count": null,
   "id": "fd6833ec",
   "metadata": {},
   "outputs": [],
   "source": [
    "# Show the columns present in categorical data frame\n",
    "df_categorical.columns"
   ]
  },
  {
   "cell_type": "markdown",
   "id": "84dfae99",
   "metadata": {},
   "source": [
    "##### intense_experience_of_nature"
   ]
  },
  {
   "cell_type": "code",
   "execution_count": null,
   "id": "6a736f51",
   "metadata": {},
   "outputs": [],
   "source": [
    "# Show the count\n",
    "df_categorical.intense_experience_of_nature.value_counts()"
   ]
  },
  {
   "cell_type": "code",
   "execution_count": null,
   "id": "785c7bc5",
   "metadata": {},
   "outputs": [],
   "source": [
    "# Create a visualization\n",
    "df_categorical.intense_experience_of_nature.value_counts().plot(kind='bar', color='green', figsize=(8,5))\n",
    "ax = plt.gca()\n",
    "ax.set_facecolor('#a6ecf5')\n",
    "plt.title('Count of intense_experience_of_nature column')\n",
    "plt.xlabel('intense_experience_of_nature')\n",
    "plt.xticks(rotation='0')\n",
    "plt.grid()\n",
    "plt.show()"
   ]
  },
  {
   "cell_type": "markdown",
   "id": "fb90c17e",
   "metadata": {},
   "source": [
    "**INTERPRETATION**\n",
    " - The data is imbalanced.\n",
    " - Most tourists didn't found intense experience of nature."
   ]
  },
  {
   "cell_type": "code",
   "execution_count": null,
   "id": "bd387fa4",
   "metadata": {},
   "outputs": [],
   "source": [
    "# Show the columns present in categorical data frame\n",
    "df_categorical.columns"
   ]
  },
  {
   "cell_type": "markdown",
   "id": "23d37494",
   "metadata": {},
   "source": [
    "##### cosiness/familiar_atmosphere"
   ]
  },
  {
   "cell_type": "code",
   "execution_count": null,
   "id": "aac3e487",
   "metadata": {},
   "outputs": [],
   "source": [
    "# Show the count\n",
    "df_categorical['cosiness/familiar_atmosphere'].value_counts()"
   ]
  },
  {
   "cell_type": "code",
   "execution_count": null,
   "id": "5f899a9b",
   "metadata": {},
   "outputs": [],
   "source": [
    "# Create a visualization\n",
    "df_categorical['cosiness/familiar_atmosphere'].value_counts().plot(kind='bar', color='green', figsize=(8,5))\n",
    "ax = plt.gca()\n",
    "ax.set_facecolor('#a6ecf5')\n",
    "plt.title('Count of cosiness/familiar_atmosphere column')\n",
    "plt.xlabel('cosiness/familiar_atmosphere')\n",
    "plt.xticks(rotation='0')\n",
    "plt.grid()\n",
    "plt.show()"
   ]
  },
  {
   "cell_type": "markdown",
   "id": "cd695f9e",
   "metadata": {},
   "source": [
    "**INTERPRETATION**\n",
    " - The data is imbalanced.\n",
    " - Most tourists do not feel cosiness or familiar atmosphere during their trip."
   ]
  },
  {
   "cell_type": "code",
   "execution_count": null,
   "id": "ceaabc20",
   "metadata": {},
   "outputs": [],
   "source": [
    "# Show the columns present in categorical data frame\n",
    "df_categorical.columns"
   ]
  },
  {
   "cell_type": "markdown",
   "id": "aa4ff9c7",
   "metadata": {},
   "source": [
    "##### maintain_unspoilt_surroundings"
   ]
  },
  {
   "cell_type": "code",
   "execution_count": null,
   "id": "e44092e2",
   "metadata": {},
   "outputs": [],
   "source": [
    "# Show the count\n",
    "df_categorical.maintain_unspoilt_surroundings.value_counts()"
   ]
  },
  {
   "cell_type": "code",
   "execution_count": null,
   "id": "90fc2daa",
   "metadata": {},
   "outputs": [],
   "source": [
    "# Create a visualization\n",
    "df_categorical.maintain_unspoilt_surroundings.value_counts().plot(kind='bar', color='green', figsize=(8,5))\n",
    "ax = plt.gca()\n",
    "ax.set_facecolor('#a6ecf5')\n",
    "plt.title('Count of maintain_unspoilt_surroundings column')\n",
    "plt.xlabel('maintain_unspoilt_surroundings')\n",
    "plt.xticks(rotation='0')\n",
    "plt.grid()\n",
    "plt.show()"
   ]
  },
  {
   "cell_type": "markdown",
   "id": "294ebc14",
   "metadata": {},
   "source": [
    "**INTERPRETATION**\n",
    " - The data is imbalanced.\n",
    " - Majority of people don't find unsploit surroundings."
   ]
  },
  {
   "cell_type": "code",
   "execution_count": null,
   "id": "e3adde6b",
   "metadata": {},
   "outputs": [],
   "source": [
    "# Show the columns present in categorical data frame\n",
    "df_categorical.columns"
   ]
  },
  {
   "cell_type": "markdown",
   "id": "5fc08544",
   "metadata": {},
   "source": [
    "##### everything_organised"
   ]
  },
  {
   "cell_type": "code",
   "execution_count": null,
   "id": "86e3572b",
   "metadata": {},
   "outputs": [],
   "source": [
    "# Show the count\n",
    "df_categorical.everything_organised.value_counts()"
   ]
  },
  {
   "cell_type": "code",
   "execution_count": null,
   "id": "d17a6089",
   "metadata": {},
   "outputs": [],
   "source": [
    "# Create a visualization\n",
    "df_categorical.everything_organised.value_counts().plot(kind='bar', color='green', figsize=(8,5))\n",
    "ax = plt.gca()\n",
    "ax.set_facecolor('#a6ecf5')\n",
    "plt.title('Count of everything_organised column')\n",
    "plt.xlabel('everything_organised')\n",
    "plt.xticks(rotation='0')\n",
    "plt.grid()\n",
    "plt.show()"
   ]
  },
  {
   "cell_type": "markdown",
   "id": "b13f6adf",
   "metadata": {},
   "source": [
    "**INTERPRETATION**\n",
    " - The data is imbalanced\n",
    " - Most tourist do not organize everything."
   ]
  },
  {
   "cell_type": "code",
   "execution_count": null,
   "id": "7a2effcf",
   "metadata": {},
   "outputs": [],
   "source": [
    "# Show the columns present in categorical data frame\n",
    "df_categorical.columns"
   ]
  },
  {
   "cell_type": "markdown",
   "id": "21f22a6c",
   "metadata": {},
   "source": [
    "##### unspoilt_nature/natural_landscape"
   ]
  },
  {
   "cell_type": "code",
   "execution_count": null,
   "id": "48f45072",
   "metadata": {},
   "outputs": [],
   "source": [
    "# Show the count\n",
    "df_categorical['unspoilt_nature/natural_landscape'].value_counts()"
   ]
  },
  {
   "cell_type": "code",
   "execution_count": null,
   "id": "fad11c70",
   "metadata": {},
   "outputs": [],
   "source": [
    "# Create a visualization\n",
    "df_categorical['unspoilt_nature/natural_landscape'].value_counts().plot(kind='bar', color='green', figsize=(8,5))\n",
    "ax = plt.gca()\n",
    "ax.set_facecolor('#a6ecf5')\n",
    "plt.title('Count of unspoilt_nature/natural_landscape column')\n",
    "plt.xlabel('unspoilt_nature/natural_landscape')\n",
    "plt.xticks(rotation='0')\n",
    "plt.grid()\n",
    "plt.show()"
   ]
  },
  {
   "cell_type": "markdown",
   "id": "7f5f0684",
   "metadata": {},
   "source": [
    "**INTERPRETATION**\n",
    " - The data is imbalanced.\n",
    " - Most tourist do not want to go unspoilt nature or natural landscape."
   ]
  },
  {
   "cell_type": "code",
   "execution_count": null,
   "id": "5b02194f",
   "metadata": {},
   "outputs": [],
   "source": [
    "# Show the columns present in categorical data frame\n",
    "df_categorical.columns"
   ]
  },
  {
   "cell_type": "code",
   "execution_count": null,
   "id": "37891013",
   "metadata": {},
   "outputs": [],
   "source": [
    "# Show the count\n",
    "df_categorical.cultural_offers.value_counts()"
   ]
  },
  {
   "cell_type": "code",
   "execution_count": null,
   "id": "d8fcdff0",
   "metadata": {},
   "outputs": [],
   "source": [
    "# Create a visualization\n",
    "df_categorical.cultural_offers.value_counts().plot(kind='bar', color='green', figsize=(8,5))\n",
    "ax = plt.gca()\n",
    "ax.set_facecolor('#a6ecf5')\n",
    "plt.title('Count of cultural_offers column')\n",
    "plt.xlabel('cultural_offers')\n",
    "plt.xticks(rotation='0')\n",
    "plt.grid()\n",
    "plt.show()"
   ]
  },
  {
   "cell_type": "markdown",
   "id": "1e27cfbb",
   "metadata": {},
   "source": [
    "**INTERPRETATION**\n",
    " - The data is imbalanced\n",
    " - Most tourists don't get cultural offers while travelling."
   ]
  },
  {
   "cell_type": "code",
   "execution_count": null,
   "id": "f21407fb",
   "metadata": {},
   "outputs": [],
   "source": [
    "# Show the columns present in categorical data frame\n",
    "df_categorical.columns"
   ]
  },
  {
   "cell_type": "markdown",
   "id": "d1189f15",
   "metadata": {},
   "source": [
    "##### change_of_surroundings"
   ]
  },
  {
   "cell_type": "code",
   "execution_count": null,
   "id": "09a7fa58",
   "metadata": {},
   "outputs": [],
   "source": [
    "# Show the count\n",
    "df_categorical.change_of_surroundings.value_counts()"
   ]
  },
  {
   "cell_type": "code",
   "execution_count": null,
   "id": "be89f728",
   "metadata": {},
   "outputs": [],
   "source": [
    "# Create a visualization\n",
    "df_categorical.change_of_surroundings.value_counts().plot(kind='bar', color='green', figsize=(8,5))\n",
    "ax = plt.gca()\n",
    "ax.set_facecolor('#a6ecf5')\n",
    "plt.title('Count of change_of_surroundings column')\n",
    "plt.xlabel('change_of_surroundings')\n",
    "plt.xticks(rotation='0')\n",
    "plt.grid()\n",
    "plt.show()"
   ]
  },
  {
   "cell_type": "markdown",
   "id": "c70bed94",
   "metadata": {},
   "source": [
    "**INTERPRETATION**\n",
    " - The data is imbalanced\n",
    " - Most tourists go for vacation to chaneg surroundings"
   ]
  },
  {
   "cell_type": "markdown",
   "id": "971044c6",
   "metadata": {},
   "source": [
    "## Bivaraiate Analysis"
   ]
  },
  {
   "cell_type": "code",
   "execution_count": null,
   "id": "1d86d02b",
   "metadata": {},
   "outputs": [],
   "source": [
    "# Show first five records of the dataframe\n",
    "df_vacations_data.head()"
   ]
  },
  {
   "cell_type": "code",
   "execution_count": null,
   "id": "a5b0bf7a",
   "metadata": {},
   "outputs": [],
   "source": [
    "# Step 1: Find the correlation matrix\n",
    "df_numerical.corr()"
   ]
  },
  {
   "cell_type": "markdown",
   "id": "884cc03c",
   "metadata": {},
   "source": [
    "**INTERPRETATION**\n",
    " - There is no such correlation between numerical variables in the given data\n",
    " \n",
    "**NOTE**\n",
    " - Just for demonstration we are going to plot correlation between `obligation_rating` and `vacation_behaviour`"
   ]
  },
  {
   "cell_type": "markdown",
   "id": "b684e6ac",
   "metadata": {},
   "source": [
    "##### obligation_rating vs vacation_behaviour"
   ]
  },
  {
   "cell_type": "code",
   "execution_count": null,
   "id": "6718aab3",
   "metadata": {},
   "outputs": [],
   "source": [
    "# Plot the scatter between given variables\n",
    "sns.scatterplot(x=df_numerical.obligation_rating, y=df_numerical.vacation_behaviour, color=graph_color)\n",
    "plt.show()"
   ]
  },
  {
   "cell_type": "markdown",
   "id": "ffdcb0bd",
   "metadata": {},
   "source": [
    "### Bivariate analysis on one numeric and one categorical variable"
   ]
  },
  {
   "cell_type": "code",
   "execution_count": null,
   "id": "5a3f8888",
   "metadata": {},
   "outputs": [],
   "source": [
    "# Show the column present in categorical data frame\n",
    "df_categorical.columns"
   ]
  },
  {
   "cell_type": "code",
   "execution_count": null,
   "id": "c0440949",
   "metadata": {},
   "outputs": [],
   "source": [
    "# Show the column present in numerical data frame\n",
    "df_numerical.columns"
   ]
  },
  {
   "cell_type": "raw",
   "id": "44f3270f",
   "metadata": {},
   "source": [
    "# Create pairs with age column\n",
    "Gender, Age\n",
    "Occupation, Age\n",
    "State, Age\n",
    "relationship_status, Age\n",
    "obligation_category, Age\n",
    "rest_and_relax, Age\n",
    "luxury_or_be_spoilt, Age\n",
    "do_sports, Age\n",
    "excitement_and_challenge, Age\n",
    "not_exceed_planned_budget, Age\n",
    "realise_creativity, Age\n",
    "fun_and_entertainment, Age\n",
    "good_company, Age\n",
    "health_and_beauty, Age\n",
    "free_and_easy_going, Age\n",
    "entertainment_facilities, Age\n",
    "not_care_about_prices, Age\n",
    "life_style_of_the_local_people, Age\n",
    "intense_experience_of_nature, Age\n",
    "cosiness/familiar_atmosphere, Age\n",
    "maintain_unspoilt_surroundings, Age\n",
    "everything_organised, Age\n",
    "unspoilt_nature/natural_landscape, Age\n",
    "cultural_offers, Age\n",
    "change_of_surroundings, Age\n",
    "Gender, Education\n",
    "Occupation, Education\n",
    "State, Education\n",
    "relationship_status, Education\n",
    "obligation_category, Education\n",
    "rest_and_relax, Education\n",
    "luxury_or_be_spoilt, Education\n",
    "do_sports, Education\n",
    "excitement_and_challenge, Education\n",
    "not_exceed_planned_budget, Education\n",
    "realise_creativity, Education\n",
    "fun_and_entertainment, Education\n",
    "good_company, Education\n",
    "health_and_beauty, Education\n",
    "free_and_easy_going, Education\n",
    "entertainment_facilities, Education\n",
    "not_care_about_prices, Education\n",
    "life_style_of_the_local_people, Education\n",
    "intense_experience_of_nature, Education\n",
    "cosiness/familiar_atmosphere, Education\n",
    "maintain_unspoilt_surroundings, Education\n",
    "everything_organised, Education\n",
    "unspoilt_nature/natural_landscape, Education\n",
    "cultural_offers, Education\n",
    "change_of_surroundings, Education\n",
    "Gender, obligation_rating\n",
    "Occupation, obligation_rating\n",
    "State, obligation_rating\n",
    "relationship_status, obligation_rating\n",
    "obligation_category, obligation_rating\n",
    "rest_and_relax, obligation_rating\n",
    "luxury_or_be_spoilt, obligation_rating\n",
    "do_sports, obligation_rating\n",
    "excitement_and_challenge, obligation_rating\n",
    "not_exceed_planned_budget, obligation_rating\n",
    "realise_creativity, obligation_rating\n",
    "fun_and_entertainment, obligation_rating\n",
    "good_company, obligation_rating\n",
    "health_and_beauty, obligation_rating\n",
    "free_and_easy_going, obligation_rating\n",
    "entertainment_facilities, obligation_rating\n",
    "not_care_about_prices, obligation_rating\n",
    "life_style_of_the_local_people, obligation_rating\n",
    "intense_experience_of_nature, obligation_rating\n",
    "cosiness/familiar_atmosphere, obligation_rating\n",
    "maintain_unspoilt_surroundings, obligation_rating\n",
    "everything_organised, obligation_rating\n",
    "unspoilt_nature/natural_landscape, obligation_rating\n",
    "cultural_offers, obligation_rating\n",
    "change_of_surroundings, obligation_rating\n",
    "Gender, NEP\n",
    "Occupation, NEP\n",
    "State, NEP\n",
    "relationship_status, NEP\n",
    "obligation_category, NEP\n",
    "rest_and_relax, NEP\n",
    "luxury_or_be_spoilt, NEP\n",
    "do_sports, NEP\n",
    "excitement_and_challenge, NEP\n",
    "not_exceed_planned_budget, NEP\n",
    "realise_creativity, NEP\n",
    "fun_and_entertainment, NEP\n",
    "good_company, NEP\n",
    "health_and_beauty, NEP\n",
    "free_and_easy_going, NEP\n",
    "entertainment_facilities, NEP\n",
    "not_care_about_prices, NEP\n",
    "life_style_of_the_local_people, NEP\n",
    "intense_experience_of_nature, NEP\n",
    "cosiness/familiar_atmosphere, NEP\n",
    "maintain_unspoilt_surroundings, NEP\n",
    "everything_organised, NEP\n",
    "unspoilt_nature/natural_landscape, NEP\n",
    "cultural_offers, NEP\n",
    "change_of_surroundings, NEP\n",
    "Gender, vacation_behaviour\n",
    "Occupation, vacation_behaviour\n",
    "State, vacation_behaviour\n",
    "relationship_status, vacation_behaviour\n",
    "obligation_category, vacation_behaviour\n",
    "rest_and_relax, vacation_behaviour\n",
    "luxury_or_be_spoilt, vacation_behaviour\n",
    "do_sports, vacation_behaviour\n",
    "excitement_and_challenge, vacation_behaviour\n",
    "not_exceed_planned_budget, vacation_behaviour\n",
    "realise_creativity, vacation_behaviour\n",
    "fun_and_entertainment, vacation_behaviour\n",
    "good_company, vacation_behaviour\n",
    "health_and_beauty, vacation_behaviour\n",
    "free_and_easy_going, vacation_behaviour\n",
    "entertainment_facilities, vacation_behaviour\n",
    "not_care_about_prices, vacation_behaviour\n",
    "life_style_of_the_local_people, vacation_behaviour\n",
    "intense_experience_of_nature, vacation_behaviour\n",
    "cosiness/familiar_atmosphere, vacation_behaviour\n",
    "maintain_unspoilt_surroundings, vacation_behaviour\n",
    "everything_organised, vacation_behaviour\n",
    "unspoilt_nature/natural_landscape, vacation_behaviour\n",
    "cultural_offers, vacation_behaviour\n",
    "change_of_surroundings, vacation_behaviour"
   ]
  },
  {
   "cell_type": "markdown",
   "id": "ad548ec0",
   "metadata": {},
   "source": [
    "#### Gender, Age"
   ]
  },
  {
   "cell_type": "code",
   "execution_count": null,
   "id": "3e661268",
   "metadata": {},
   "outputs": [],
   "source": [
    "# Plot the barplot\n",
    "sns.barplot(x='Gender', y='Age', data=df_vacations_data, color=graph_color)\n",
    "ax = plt.gca()\n",
    "ax.set_facecolor(bg_color)\n",
    "plt.title('Gender v/s Age')\n",
    "plt.grid()\n",
    "plt.show()"
   ]
  },
  {
   "cell_type": "code",
   "execution_count": null,
   "id": "679f20d2",
   "metadata": {},
   "outputs": [],
   "source": [
    "# Plot the barplot\n",
    "sns.barplot(x='Gender', y='Age', data=df_vacations_data, estimator=min, color=graph_color)\n",
    "ax = plt.gca()\n",
    "ax.set_facecolor(bg_color)\n",
    "plt.title('Gender v/s Age')\n",
    "plt.grid()\n",
    "plt.show()"
   ]
  },
  {
   "cell_type": "code",
   "execution_count": null,
   "id": "c31d140c",
   "metadata": {},
   "outputs": [],
   "source": [
    "# Plot the barplot\n",
    "sns.barplot(x='Gender', y='Age', data=df_vacations_data, estimator=max, color=graph_color)\n",
    "ax = plt.gca()\n",
    "ax.set_facecolor(bg_color)\n",
    "plt.title('Gender v/s Age')\n",
    "plt.grid()\n",
    "plt.show()"
   ]
  },
  {
   "cell_type": "markdown",
   "id": "c71989d5",
   "metadata": {},
   "source": [
    "**INTERPRETATION**\n",
    " - In the data we can see that categories are balanced.\n",
    " - Minimum age by the gender is quite balanced but maximum age behaving quite unusual. \n",
    " - Maximum age for female is more than 100 and the male age is less than 80."
   ]
  }
 ],
 "metadata": {
  "kernelspec": {
   "display_name": "Python 3 (ipykernel)",
   "language": "python",
   "name": "python3"
  },
  "language_info": {
   "codemirror_mode": {
    "name": "ipython",
    "version": 3
   },
   "file_extension": ".py",
   "mimetype": "text/x-python",
   "name": "python",
   "nbconvert_exporter": "python",
   "pygments_lexer": "ipython3",
   "version": "3.9.12"
  }
 },
 "nbformat": 4,
 "nbformat_minor": 5
}
